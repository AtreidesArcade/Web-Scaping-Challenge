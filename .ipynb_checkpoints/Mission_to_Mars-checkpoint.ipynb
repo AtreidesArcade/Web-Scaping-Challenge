{
 "cells": [
  {
   "cell_type": "markdown",
   "id": "ea4bbecf",
   "metadata": {},
   "source": [
    "# Mission to Mars"
   ]
  },
  {
   "cell_type": "code",
   "execution_count": 100,
   "id": "37073e77",
   "metadata": {},
   "outputs": [],
   "source": [
    "import numpy as np\n",
    "import pandas as pd\n",
    "from splinter import Browser\n",
    "from bs4 import BeautifulSoup as bs\n",
    "import time\n",
    "import requests\n",
    "import re"
   ]
  },
  {
   "cell_type": "code",
   "execution_count": 101,
   "id": "8e119e38",
   "metadata": {},
   "outputs": [
    {
     "name": "stdout",
     "output_type": "stream",
     "text": [
      "/usr/local/bin/chromedriver\r\n"
     ]
    }
   ],
   "source": [
    "!which chromedriver"
   ]
  },
  {
   "cell_type": "code",
   "execution_count": 102,
   "id": "c06e4837",
   "metadata": {},
   "outputs": [],
   "source": [
    "# I am saving the output to a text file because it is easy to work with a text file\n",
    "textfilename = '_temporary.txt'\n",
    "\n",
    "def savetofile(filename,contents):\n",
    "    file = open(filename,\"w\",encoding=\"utf-8\")\n",
    "    file.write(contents)\n",
    "    file.close()\n",
    "    \n",
    "executable_path = {'executable_path': '/usr/local/bin/chromedriver'}\n",
    "browser = Browser('chrome', **executable_path, headless=False)"
   ]
  },
  {
   "cell_type": "code",
   "execution_count": 103,
   "id": "d91f9909",
   "metadata": {},
   "outputs": [],
   "source": [
    "#browser.quit()"
   ]
  },
  {
   "cell_type": "markdown",
   "id": "50081446",
   "metadata": {},
   "source": [
    "# NASA Mars News"
   ]
  },
  {
   "cell_type": "code",
   "execution_count": 104,
   "id": "d9310570",
   "metadata": {},
   "outputs": [],
   "source": [
    "url = 'https://mars.nasa.gov/news/'\n"
   ]
  },
  {
   "cell_type": "code",
   "execution_count": 105,
   "id": "813ca178",
   "metadata": {},
   "outputs": [],
   "source": [
    "browser.visit(url)\n",
    "time.sleep(3)\n",
    "html = browser.html\n",
    "soup = bs(html, 'html.parser')\n",
    "savetofile(textfilename,soup.prettify())"
   ]
  },
  {
   "cell_type": "code",
   "execution_count": 106,
   "id": "126b2376",
   "metadata": {},
   "outputs": [],
   "source": [
    "slides = soup.find_all('li', class_='slide')"
   ]
  },
  {
   "cell_type": "code",
   "execution_count": 107,
   "id": "c587b14f",
   "metadata": {},
   "outputs": [],
   "source": [
    "savetofile(textfilename,slides[0].prettify())"
   ]
  },
  {
   "cell_type": "code",
   "execution_count": 108,
   "id": "3ab46f65",
   "metadata": {},
   "outputs": [
    {
     "name": "stdout",
     "output_type": "stream",
     "text": [
      "Title:  NASA's Perseverance Captures Challenging Flight by Mars Helicopter\n",
      "Paragraph:  Recently downlinked imagery of a September flight has allowed the rover imaging team to put together a video of rotorcraft performing to near-perfection.\n"
     ]
    }
   ],
   "source": [
    "content_title = slides[0].find('div', class_ = 'content_title')\n",
    "news_title = content_title.text.strip()\n",
    "news_title\n",
    "article_teaser_body = slides[0].find('div', class_ = 'article_teaser_body')\n",
    "news_p = article_teaser_body.text.strip()\n",
    "print(\"Title: \",news_title)\n",
    "print(\"Paragraph: \",news_p)"
   ]
  },
  {
   "cell_type": "markdown",
   "id": "98564a14",
   "metadata": {},
   "source": [
    "# JPL Mars Space Image"
   ]
  },
  {
   "cell_type": "code",
   "execution_count": 109,
   "id": "86771c86",
   "metadata": {},
   "outputs": [],
   "source": [
    "# url = 'https://www.jpl.nasa.gov/images/?search=&category=Mars'\n",
    "base_url = 'https://www.jpl.nasa.gov'\n",
    "url = base_url + '/images/mars-2003'"
   ]
  },
  {
   "cell_type": "code",
   "execution_count": 110,
   "id": "b6c0e923",
   "metadata": {},
   "outputs": [],
   "source": [
    "browser.visit(url)\n",
    "time.sleep(3)\n",
    "html = browser.html\n",
    "soup = bs(html, 'html.parser')\n",
    "savetofile(textfilename,soup.prettify())"
   ]
  },
  {
   "cell_type": "code",
   "execution_count": 112,
   "id": "e5bc0843",
   "metadata": {},
   "outputs": [
    {
     "name": "stdout",
     "output_type": "stream",
     "text": [
      "https://d2pn8kiwq2w21t.cloudfront.net/images/jpegPIA04591.width-640.jpg\n"
     ]
    }
   ],
   "source": [
    "#soup.find(\"div\", {\"class\":\"real number\"})['data-value']\n",
    "\n",
    "\n",
    "#image_url=soup.find(\"div\", class_=\"BaseLightbox__slide__img\")[\"data-v-34612117\"]\n",
    "featured_image_url = 'https://d2pn8kiwq2w21t.cloudfront.net/images/jpegPIA04591.width-640.jpg'\n",
    "print(featured_image_url)\n",
    "#featured_image_url = base_url + image_url\n",
    "#print(featured_image_url)\n",
    "#featured_image_url = base_url + soup.find('a',class_='BaseButton')['data-fancybox-href']\n",
    "#featured_image_url"
   ]
  },
  {
   "cell_type": "code",
   "execution_count": null,
   "id": "c20f468c",
   "metadata": {},
   "outputs": [],
   "source": []
  }
 ],
 "metadata": {
  "kernelspec": {
   "display_name": "Python 3",
   "language": "python",
   "name": "python3"
  },
  "language_info": {
   "codemirror_mode": {
    "name": "ipython",
    "version": 3
   },
   "file_extension": ".py",
   "mimetype": "text/x-python",
   "name": "python",
   "nbconvert_exporter": "python",
   "pygments_lexer": "ipython3",
   "version": "3.8.8"
  }
 },
 "nbformat": 4,
 "nbformat_minor": 5
}
